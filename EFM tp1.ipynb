{
  "nbformat": 4,
  "nbformat_minor": 0,
  "metadata": {
    "colab": {
      "provenance": [],
      "authorship_tag": "ABX9TyOLEdT78DpDP24cVKDCTxkU",
      "include_colab_link": true
    },
    "kernelspec": {
      "name": "python3",
      "display_name": "Python 3"
    },
    "language_info": {
      "name": "python"
    }
  },
  "cells": [
    {
      "cell_type": "markdown",
      "metadata": {
        "id": "view-in-github",
        "colab_type": "text"
      },
      "source": [
        "<a href=\"https://colab.research.google.com/github/Sehlli/EFM-Tp/blob/main/EFM%20tp1.ipynb\" target=\"_parent\"><img src=\"https://colab.research.google.com/assets/colab-badge.svg\" alt=\"Open In Colab\"/></a>"
      ]
    },
    {
      "cell_type": "code",
      "execution_count": 29,
      "metadata": {
        "id": "qJ9rHPhvv-K8"
      },
      "outputs": [],
      "source": [
        "import numpy as np   # importing numpy, math , matplotlib librarie \n",
        "import math\n",
        "from matplotlib import pyplot as plt\n",
        "\n",
        "def shape(xi):   # function shape take list and  return   1D array \n",
        "\tx,y = tuple(xi)\n",
        "\tN = [(1.0-x)*(1.0-y), (1.0+x)*(1.0-y), (1.0+x)*(1.0+y), (1.0-x)*(1.0+y)]\n",
        "\treturn 0.25*np.array(N)\n",
        " \n",
        "def gradshape(xi):    # function gradshape takes list and return 2D array \n",
        "\tx,y = tuple(xi)\n",
        "\tdN = [[-(1.0-y),  (1.0-y), (1.0+y), -(1.0+y)],\n",
        "\t\t  [-(1.0-x), -(1.0+x), (1.0+x),  (1.0-x)]]\n",
        "\treturn 0.25*np.array(dN)"
      ]
    },
    {
      "cell_type": "code",
      "source": [
        "print('create mesh')\n",
        "# input\n",
        "mesh_ex = 9\n",
        "mesh_ey = 49\n",
        "mesh_lx = 10.0\n",
        "mesh_ly = 50.0\n",
        "# derived\n",
        "mesh_nx      = mesh_ex + 1\n",
        "mesh_ny      = mesh_ey + 1\n",
        "num_nodes    = mesh_nx * mesh_ny\n",
        "num_elements = mesh_ex * mesh_ey\n",
        "mesh_hx      = mesh_lx / mesh_ex\n",
        "mesh_hy      = mesh_ly / mesh_ey\n",
        "nodes = []\n",
        "for y in np.linspace(0.0, mesh_ly, mesh_ny):\n",
        "\tfor x in np.linspace(0.0, mesh_lx, mesh_nx):\n",
        "\t\tnodes.append([x,y])\n",
        "nodes = np.array(nodes)\n",
        "conn = []\n",
        "for j in range(mesh_ey):\n",
        "\tfor i in range(mesh_ex):\n",
        "\t\tn0 = i + j*mesh_nx\n",
        "\t\tconn.append([n0, n0 + 1, n0 + 1 + mesh_nx, n0 + mesh_nx])"
      ],
      "metadata": {
        "colab": {
          "base_uri": "https://localhost:8080/"
        },
        "id": "6IXtJ1y4x3y2",
        "outputId": "68f6a155-8d84-41a1-8cf1-52f3f7b01552"
      },
      "execution_count": 30,
      "outputs": [
        {
          "output_type": "stream",
          "name": "stdout",
          "text": [
            "create mesh\n"
          ]
        }
      ]
    },
    {
      "cell_type": "code",
      "source": [
        "print ('material model - plane strain')\n",
        "E = 100.0\n",
        "v = 0.48\n",
        "C = E/(1.0+v)/(1.0-2.0*v) * np.array([[1.0-v,     v,     0.0],\n",
        "\t\t\t\t\t\t\t\t      [    v, 1.0-v,     0.0],\n",
        "\t\t\t\t\t\t\t\t      [  0.0,   0.0,   0.5-v]])"
      ],
      "metadata": {
        "colab": {
          "base_uri": "https://localhost:8080/"
        },
        "id": "eackKzKJyLbY",
        "outputId": "f3dd7eb7-9a26-41a8-a467-8883f0095b01"
      },
      "execution_count": 31,
      "outputs": [
        {
          "output_type": "stream",
          "name": "stdout",
          "text": [
            "material model - plane strain\n"
          ]
        }
      ]
    },
    {
      "cell_type": "code",
      "source": [
        "print('create global stiffness matrix')\n",
        "K = np.zeros((2*num_nodes, 2*num_nodes))\n",
        "q4 = [[x/math.sqrt(3.0),y/math.sqrt(3.0)] for y in [-1.0,1.0] for x in [-1.0,1.0]]\n",
        "B = np.zeros((3,8))\n",
        "for c in conn:\n",
        "\txIe = nodes[c,:]\n",
        "\tKe = np.zeros((8,8))\n",
        "\tfor q in q4:\n",
        "\t\tdN = gradshape(q)\n",
        "\t\tJ  = np.dot(dN, xIe).T\n",
        "\t\tdN = np.dot(np.linalg.inv(J), dN)\n",
        "\t\tB[0,0::2] = dN[0,:]\n",
        "\t\tB[1,1::2] = dN[1,:]\n",
        "\t\tB[2,0::2] = dN[1,:]\n",
        "\t\tB[2,1::2] = dN[0,:]\n",
        "\t\tKe += np.dot(np.dot(B.T,C),B) * np.linalg.det(J)\n",
        "\tfor i,I in enumerate(c):\n",
        "\t\tfor j,J in enumerate(c):\n",
        "\t\t\tK[2*I,2*J]     += Ke[2*i,2*j]\n",
        "\t\t\tK[2*I+1,2*J]   += Ke[2*i+1,2*j]\n",
        "\t\t\tK[2*I+1,2*J+1] += Ke[2*i+1,2*j+1]\n",
        "\t\t\tK[2*I,2*J+1]   += Ke[2*i,2*j+1]"
      ],
      "metadata": {
        "colab": {
          "base_uri": "https://localhost:8080/"
        },
        "id": "p7pRV7xCyOYL",
        "outputId": "9642fb0e-1358-4340-955d-2a8c2e7ac92c"
      },
      "execution_count": 32,
      "outputs": [
        {
          "output_type": "stream",
          "name": "stdout",
          "text": [
            "create global stiffness matrix\n"
          ]
        }
      ]
    },
    {
      "cell_type": "code",
      "source": [
        "print('assign nodal forces and boundary conditions')\n",
        "f = np.zeros((2*num_nodes))\n",
        "for i in range(num_nodes):\n",
        "\tif nodes[i,1] == 0.0:\n",
        "\t\tK[2*i,:]     = 0.0\n",
        "\t\tK[2*i+1,:]   = 0.0\n",
        "\t\tK[2*i,2*i]   = 1.0\n",
        "\t\tK[2*i+1,2*i+1] = 1.0\n",
        "\tif nodes[i,1] == mesh_ly:\n",
        "\t\tx = nodes[i,0]\n",
        "\t\tf[2*i+1] = 20.0\n",
        "\t\tif x == 0.0 or x == mesh_lx:\n",
        "\t\t\tf[2*i+1] *= 0.5"
      ],
      "metadata": {
        "colab": {
          "base_uri": "https://localhost:8080/"
        },
        "id": "gX1ESenhyRAT",
        "outputId": "5c3532c3-7774-4f23-e00d-4be537fe7181"
      },
      "execution_count": 33,
      "outputs": [
        {
          "output_type": "stream",
          "name": "stdout",
          "text": [
            "assign nodal forces and boundary conditions\n"
          ]
        }
      ]
    },
    {
      "cell_type": "code",
      "source": [
        "print('solving linear system')\n",
        "u = np.linalg.solve(K, f)\n",
        "print('max u=', max(u))"
      ],
      "metadata": {
        "colab": {
          "base_uri": "https://localhost:8080/"
        },
        "id": "XFl9s1kCzDlR",
        "outputId": "3f2c8dac-6870-402d-ff21-3cdbb2898667"
      },
      "execution_count": 34,
      "outputs": [
        {
          "output_type": "stream",
          "name": "stdout",
          "text": [
            "solving linear system\n",
            "max u= 6.745400245723836\n"
          ]
        }
      ]
    },
    {
      "cell_type": "code",
      "source": [
        "print('plotting displacement')\n",
        "ux = np.reshape(u[0::2], (mesh_ny,mesh_nx))\n",
        "uy = np.reshape(u[1::2], (mesh_ny,mesh_nx))\n",
        "xvec = []\n",
        "yvec = []\n",
        "res  = []\n",
        "for i in range(mesh_nx):\n",
        "    for j in range(mesh_ny):\n",
        "        xvec.append(i*mesh_hx + ux[j,i])\n",
        "        yvec.append(j*mesh_hy + uy[j,i])\n",
        "        res.append(uy[j,i])\n",
        "t = plt.tricontourf(xvec, yvec, res, levels=14, cmap=plt.cm.jet)\n",
        "plt.scatter(xvec, yvec, marker='o', c='b', s=2)\n",
        "plt.grid()\n",
        "plt.colorbar(t)\n",
        "plt.axis('equal')\n",
        "plt.show()"
      ],
      "metadata": {
        "colab": {
          "base_uri": "https://localhost:8080/",
          "height": 286
        },
        "id": "zeyaeHFmzFGl",
        "outputId": "ed27b7ff-7828-43eb-fafd-c4e8bef643a9"
      },
      "execution_count": 35,
      "outputs": [
        {
          "output_type": "stream",
          "name": "stdout",
          "text": [
            "plotting displacement\n"
          ]
        },
        {
          "output_type": "display_data",
          "data": {
            "text/plain": [
              "<Figure size 432x288 with 2 Axes>"
            ],
            "image/png": "[encoded data removed]"
          },
          "metadata": {
            "needs_background": "light"
          }
        }
      ]
    },
    {
      "cell_type": "markdown",
      "source": [],
      "metadata": {
        "id": "sTfuxrk9wK3F"
      }
    }
  ]
}